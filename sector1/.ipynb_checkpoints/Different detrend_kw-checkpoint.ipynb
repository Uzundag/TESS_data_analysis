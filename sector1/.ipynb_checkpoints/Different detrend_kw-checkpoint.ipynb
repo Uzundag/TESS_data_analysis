{
 "cells": [
  {
   "cell_type": "code",
   "execution_count": 1,
   "metadata": {},
   "outputs": [
    {
     "name": "stderr",
     "output_type": "stream",
     "text": [
      "┌ Warning: dropmissing! will change eltype of cols to disallow missing by default. Use dropmissing!(df, cols, disallowmissing=false) to retain missing.\n",
      "│   caller = ip:0x0\n",
      "└ @ Core :-1\n"
     ]
    }
   ],
   "source": [
    "include(\"sebastien.jl\")\n",
    "using Main.WeirdDetector\n",
    "using PyPlot\n",
    "using DataFrames\n",
    "\n",
    "stars = [\"316992294\", \"294754396\", \"281779224\", \"29636302\", \"30315127\",\n",
    "    \"269762258\", \"269793839\", \"269829384\", \"269829656\", \"370324073\", \"410354930\", \"441113863\", \"316992294\", \"33862174\"]\n",
    "\n",
    "for i in stars\n",
    "    tid = string(i)\n",
    "    df = loadFITS(0, fitsdir=\"./lcs/\", tic_id=tid, detrend_kw=1)\n",
    "    d = pointsify(df)\n",
    "    periods = optimal_periods(0.25,15)\n",
    "    output=periodogram(d, periods, parallel=true, datakw=true)\n",
    "    output[:delt_chi2] = flatten(periods, output[:chi2], tess=true)\n",
    "    null_output = scrambled_periodogram(df, periods, tess=true)\n",
    "    null_output[:delt_chi2] = flatten(periods, null_output[:chi2], tess=true)\n",
    "    sigma = movingstd((null_output[:kurtosis] .- 3) .* (null_output[:delt_chi2]))\n",
    "    output[:zeta] = (output[:kurtosis] .- 3) .* output[:delt_chi2] ./ sigma\n",
    "\n",
    "    plot(periods, output[:zeta])\n",
    "    savefig(\"./periodograms/\" * tid * \".png\")\n",
    "    clf()\n",
    "    period = periods[findall(a->a==maximum(output[:zeta]), output[:zeta])][1]\n",
    "    df[:t] = df[:t] .% period\n",
    "    scatter(df[:t], df[:F], alpha=0.4, s=0.1)\n",
    "    savefig(\"./foldedlcs/\" * tid * \".png\")\n",
    "    clf()\n",
    "    zetapeak = maximum(output[:zeta])\n",
    "end"
   ]
  },
  {
   "cell_type": "code",
   "execution_count": null,
   "metadata": {},
   "outputs": [
    {
     "name": "stderr",
     "output_type": "stream",
     "text": [
      "┌ Warning: dropmissing! will change eltype of cols to disallow missing by default. Use dropmissing!(df, cols, disallowmissing=false) to retain missing.\n",
      "│   caller = ip:0x0\n",
      "└ @ Core :-1\n"
     ]
    }
   ],
   "source": [
    "include(\"sebastien.jl\")\n",
    "using Main.WeirdDetector\n",
    "using PyPlot\n",
    "using DataFrames\n",
    "\n",
    "stars = [\"316992294\", \"294754396\", \"281779224\", \"29636302\", \"30315127\",\n",
    "    \"269762258\", \"269793839\", \"269829384\", \"269829656\", \"370324073\", \"410354930\", \"441113863\", \"316992294\", \"33862174\"]\n",
    "\n",
    "for i in stars\n",
    "    tid = string(i)\n",
    "    df = loadFITS(0, fitsdir=\"./lcs/\", tic_id=tid, nodetrend=true)\n",
    "    d = pointsify(df)\n",
    "    periods = optimal_periods(0.25,15)\n",
    "    output=periodogram(d, periods, parallel=true, datakw=true)\n",
    "    output[:delt_chi2] = flatten(periods, output[:chi2], tess=true)\n",
    "    null_output = scrambled_periodogram(df, periods, tess=true)\n",
    "    null_output[:delt_chi2] = flatten(periods, null_output[:chi2], tess=true)\n",
    "    sigma = movingstd((null_output[:kurtosis] .- 3) .* (null_output[:delt_chi2]))\n",
    "    output[:zeta] = (output[:kurtosis] .- 3) .* output[:delt_chi2] ./ sigma\n",
    "\n",
    "    plot(periods, output[:zeta])\n",
    "    savefig(\"./periodograms/\" * tid * \".png\")\n",
    "    clf()\n",
    "    period = periods[findall(a->a==maximum(output[:zeta]), output[:zeta])][1]\n",
    "    df[:t] = df[:t] .% period\n",
    "    scatter(df[:t], df[:F], alpha=0.4, s=0.1)\n",
    "    savefig(\"./foldedlcs/\" * tid * \"-nodetrend.png\")\n",
    "    clf()\n",
    "    zetapeak = maximum(output[:zeta])\n",
    "end"
   ]
  }
 ],
 "metadata": {
  "kernelspec": {
   "display_name": "Julia 1.0.3",
   "language": "julia",
   "name": "julia-1.0"
  },
  "language_info": {
   "file_extension": ".jl",
   "mimetype": "application/julia",
   "name": "julia",
   "version": "1.0.3"
  }
 },
 "nbformat": 4,
 "nbformat_minor": 2
}

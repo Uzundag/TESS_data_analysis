{
 "cells": [
  {
   "cell_type": "code",
   "execution_count": 1,
   "metadata": {},
   "outputs": [
    {
     "name": "stderr",
     "output_type": "stream",
     "text": [
      "┌ Warning: `getindex(o::PyObject, s::Symbol)` is deprecated in favor of dot overloading (`getproperty`) so elements should now be accessed as e.g. `o.s` instead of `o[:s]`.\n",
      "│   caller = __init__() at init.jl:175\n",
      "└ @ PyPlot C:\\Users\\Joheen\\.julia\\packages\\PyPlot\\mQXSC\\src\\init.jl:175\n",
      "┌ Warning: `getindex(o::PyObject, s::AbstractString)` is deprecated in favor of dot overloading (`getproperty`) so elements should now be accessed as e.g. `o.\"s\"` instead of `o[\"s\"]`.\n",
      "│   caller = find_backend(::PyCall.PyObject) at init.jl:73\n",
      "└ @ PyPlot C:\\Users\\Joheen\\.julia\\packages\\PyPlot\\mQXSC\\src\\init.jl:73\n",
      "┌ Warning: `getindex(o::PyObject, s::AbstractString)` is deprecated in favor of dot overloading (`getproperty`) so elements should now be accessed as e.g. `o.\"s\"` instead of `o[\"s\"]`.\n",
      "│   caller = find_backend(::PyCall.PyObject) at init.jl:129\n",
      "└ @ PyPlot C:\\Users\\Joheen\\.julia\\packages\\PyPlot\\mQXSC\\src\\init.jl:129\n",
      "┌ Warning: `getindex(o::PyObject, s::AbstractString)` is deprecated in favor of dot overloading (`getproperty`) so elements should now be accessed as e.g. `o.\"s\"` instead of `o[\"s\"]`.\n",
      "│   caller = find_backend(::PyCall.PyObject) at init.jl:142\n",
      "└ @ PyPlot C:\\Users\\Joheen\\.julia\\packages\\PyPlot\\mQXSC\\src\\init.jl:142\n",
      "┌ Warning: `getindex(o::PyObject, s::AbstractString)` is deprecated in favor of dot overloading (`getproperty`) so elements should now be accessed as e.g. `o.\"s\"` instead of `o[\"s\"]`.\n",
      "│   caller = __init__() at init.jl:189\n",
      "└ @ PyPlot C:\\Users\\Joheen\\.julia\\packages\\PyPlot\\mQXSC\\src\\init.jl:189\n",
      "┌ Warning: `getindex(o::PyObject, s::AbstractString)` is deprecated in favor of dot overloading (`getproperty`) so elements should now be accessed as e.g. `o.\"s\"` instead of `o[\"s\"]`.\n",
      "│   caller = __init__() at init.jl:191\n",
      "└ @ PyPlot C:\\Users\\Joheen\\.julia\\packages\\PyPlot\\mQXSC\\src\\init.jl:191\n",
      "┌ Warning: `getindex(o::PyObject, s::AbstractString)` is deprecated in favor of dot overloading (`getproperty`) so elements should now be accessed as e.g. `o.\"s\"` instead of `o[\"s\"]`.\n",
      "│   caller = __init__() at init.jl:192\n",
      "└ @ PyPlot C:\\Users\\Joheen\\.julia\\packages\\PyPlot\\mQXSC\\src\\init.jl:192\n",
      "┌ Warning: `getindex(o::PyObject, s::AbstractString)` is deprecated in favor of dot overloading (`getproperty`) so elements should now be accessed as e.g. `o.\"s\"` instead of `o[\"s\"]`.\n",
      "│   caller = __init__() at init.jl:193\n",
      "└ @ PyPlot C:\\Users\\Joheen\\.julia\\packages\\PyPlot\\mQXSC\\src\\init.jl:193\n",
      "┌ Warning: `setindex!(o::PyObject, v, s::Union{Symbol, AbstractString})` is deprecated in favor of `setproperty!(o, s, v)`.\n",
      "│   caller = __init__() at init.jl:194\n",
      "└ @ PyPlot C:\\Users\\Joheen\\.julia\\packages\\PyPlot\\mQXSC\\src\\init.jl:194\n",
      "┌ Warning: `setindex!(o::PyObject, v, s::Union{Symbol, AbstractString})` is deprecated in favor of `setproperty!(o, s, v)`.\n",
      "│   caller = __init__() at init.jl:195\n",
      "└ @ PyPlot C:\\Users\\Joheen\\.julia\\packages\\PyPlot\\mQXSC\\src\\init.jl:195\n",
      "┌ Warning: `getindex(o::PyObject, s::AbstractString)` is deprecated in favor of dot overloading (`getproperty`) so elements should now be accessed as e.g. `o.\"s\"` instead of `o[\"s\"]`.\n",
      "│   caller = __init__() at init.jl:204\n",
      "└ @ PyPlot C:\\Users\\Joheen\\.julia\\packages\\PyPlot\\mQXSC\\src\\init.jl:204\n",
      "┌ Warning: `getindex(o::PyObject, s::AbstractString)` is deprecated in favor of dot overloading (`getproperty`) so elements should now be accessed as e.g. `o.\"s\"` instead of `o[\"s\"]`.\n",
      "│   caller = __init__() at init.jl:205\n",
      "└ @ PyPlot C:\\Users\\Joheen\\.julia\\packages\\PyPlot\\mQXSC\\src\\init.jl:205\n",
      "┌ Warning: `getindex(o::PyObject, s::AbstractString)` is deprecated in favor of dot overloading (`getproperty`) so elements should now be accessed as e.g. `o.\"s\"` instead of `o[\"s\"]`.\n",
      "│   caller = init_colormaps() at colormaps.jl:45\n",
      "└ @ PyPlot C:\\Users\\Joheen\\.julia\\packages\\PyPlot\\mQXSC\\src\\colormaps.jl:45\n",
      "┌ Warning: `getindex(o::PyObject, s::AbstractString)` is deprecated in favor of dot overloading (`getproperty`) so elements should now be accessed as e.g. `o.\"s\"` instead of `o[\"s\"]`.\n",
      "│   caller = init_colormaps() at colormaps.jl:47\n",
      "└ @ PyPlot C:\\Users\\Joheen\\.julia\\packages\\PyPlot\\mQXSC\\src\\colormaps.jl:47\n",
      "┌ Warning: `getindex(o::PyObject, s::AbstractString)` is deprecated in favor of dot overloading (`getproperty`) so elements should now be accessed as e.g. `o.\"s\"` instead of `o[\"s\"]`.\n",
      "│   caller = init_colormaps() at colormaps.jl:49\n",
      "└ @ PyPlot C:\\Users\\Joheen\\.julia\\packages\\PyPlot\\mQXSC\\src\\colormaps.jl:49\n",
      "┌ Warning: `getindex(o::PyObject, s::AbstractString)` is deprecated in favor of dot overloading (`getproperty`) so elements should now be accessed as e.g. `o.\"s\"` instead of `o[\"s\"]`.\n",
      "│   caller = init_colormaps() at colormaps.jl:50\n",
      "└ @ PyPlot C:\\Users\\Joheen\\.julia\\packages\\PyPlot\\mQXSC\\src\\colormaps.jl:50\n",
      "┌ Warning: `getindex(o::PyObject, s::AbstractString)` is deprecated in favor of dot overloading (`getproperty`) so elements should now be accessed as e.g. `o.\"s\"` instead of `o[\"s\"]`.\n",
      "│   caller = init_colormaps() at colormaps.jl:52\n",
      "└ @ PyPlot C:\\Users\\Joheen\\.julia\\packages\\PyPlot\\mQXSC\\src\\colormaps.jl:52\n",
      "┌ Warning: `getindex(o::PyObject, s::AbstractString)` is deprecated in favor of dot overloading (`getproperty`) so elements should now be accessed as e.g. `o.\"s\"` instead of `o[\"s\"]`.\n",
      "│   caller = init_colormaps() at colormaps.jl:53\n",
      "└ @ PyPlot C:\\Users\\Joheen\\.julia\\packages\\PyPlot\\mQXSC\\src\\colormaps.jl:53\n",
      "┌ Warning: dropmissing! will change eltype of cols to disallow missing by default. Use dropmissing!(df, cols, disallowmissing=false) to retain missing.\n",
      "│   caller = ip:0x0\n",
      "└ @ Core :-1\n"
     ]
    },
    {
     "name": "stdout",
     "output_type": "stream",
     "text": [
      "(9159, 4)\n",
      "(9273, 4)\n"
     ]
    },
    {
     "name": "stderr",
     "output_type": "stream",
     "text": [
      "┌ Warning: `haskey(o::PyObject, s::Union{Symbol, AbstractString})` is deprecated, use `hasproperty(o, s)` instead.\n",
      "│   caller = #scatter#99(::Base.Iterators.Pairs{Symbol,Float64,Tuple{Symbol,Symbol},NamedTuple{(:alpha, :s),Tuple{Float64,Float64}}}, ::Function, ::Array{Float64,1}, ::Vararg{Any,N} where N) at PyPlot.jl:176\n",
      "└ @ PyPlot C:\\Users\\Joheen\\.julia\\packages\\PyPlot\\mQXSC\\src\\PyPlot.jl:176\n",
      "┌ Warning: `getindex(o::PyObject, s::AbstractString)` is deprecated in favor of dot overloading (`getproperty`) so elements should now be accessed as e.g. `o.\"s\"` instead of `o[\"s\"]`.\n",
      "│   caller = #scatter#99(::Base.Iterators.Pairs{Symbol,Float64,Tuple{Symbol,Symbol},NamedTuple{(:alpha, :s),Tuple{Float64,Float64}}}, ::Function, ::Array{Float64,1}, ::Vararg{Any,N} where N) at PyPlot.jl:179\n",
      "└ @ PyPlot C:\\Users\\Joheen\\.julia\\packages\\PyPlot\\mQXSC\\src\\PyPlot.jl:179\n",
      "┌ Warning: `haskey(o::PyObject, s::Union{Symbol, AbstractString})` is deprecated, use `hasproperty(o, s)` instead.\n",
      "│   caller = #savefig#97(::Base.Iterators.Pairs{Union{},Union{},Tuple{},NamedTuple{(),Tuple{}}}, ::Function, ::String) at PyPlot.jl:176\n",
      "└ @ PyPlot C:\\Users\\Joheen\\.julia\\packages\\PyPlot\\mQXSC\\src\\PyPlot.jl:176\n",
      "┌ Warning: `getindex(o::PyObject, s::AbstractString)` is deprecated in favor of dot overloading (`getproperty`) so elements should now be accessed as e.g. `o.\"s\"` instead of `o[\"s\"]`.\n",
      "│   caller = #savefig#97(::Base.Iterators.Pairs{Union{},Union{},Tuple{},NamedTuple{(),Tuple{}}}, ::Function, ::String) at PyPlot.jl:179\n",
      "└ @ PyPlot C:\\Users\\Joheen\\.julia\\packages\\PyPlot\\mQXSC\\src\\PyPlot.jl:179\n",
      "┌ Warning: `haskey(o::PyObject, s::Union{Symbol, AbstractString})` is deprecated, use `hasproperty(o, s)` instead.\n",
      "│   caller = #clf#28(::Base.Iterators.Pairs{Union{},Union{},Tuple{},NamedTuple{(),Tuple{}}}, ::Function) at PyPlot.jl:176\n",
      "└ @ PyPlot C:\\Users\\Joheen\\.julia\\packages\\PyPlot\\mQXSC\\src\\PyPlot.jl:176\n",
      "┌ Warning: `getindex(o::PyObject, s::AbstractString)` is deprecated in favor of dot overloading (`getproperty`) so elements should now be accessed as e.g. `o.\"s\"` instead of `o[\"s\"]`.\n",
      "│   caller = #clf#28(::Base.Iterators.Pairs{Union{},Union{},Tuple{},NamedTuple{(),Tuple{}}}, ::Function) at PyPlot.jl:179\n",
      "└ @ PyPlot C:\\Users\\Joheen\\.julia\\packages\\PyPlot\\mQXSC\\src\\PyPlot.jl:179\n"
     ]
    },
    {
     "name": "stdout",
     "output_type": "stream",
     "text": [
      "(9139, 4)\n",
      "(9253, 4)\n",
      "(9119, 4)\n",
      "(9233, 4)\n",
      "(9099, 4)\n",
      "(9213, 4)\n",
      "(9059, 4)\n",
      "(9173, 4)\n"
     ]
    },
    {
     "name": "stderr",
     "output_type": "stream",
     "text": [
      "┌ Warning: `getindex(o::PyObject, s::AbstractString)` is deprecated in favor of dot overloading (`getproperty`) so elements should now be accessed as e.g. `o.\"s\"` instead of `o[\"s\"]`.\n",
      "│   caller = display_figs() at PyPlot.jl:117\n",
      "└ @ PyPlot C:\\Users\\Joheen\\.julia\\packages\\PyPlot\\mQXSC\\src\\PyPlot.jl:117\n",
      "┌ Warning: `getindex(o::PyObject, s::AbstractString)` is deprecated in favor of dot overloading (`getproperty`) so elements should now be accessed as e.g. `o.\"s\"` instead of `o[\"s\"]`.\n",
      "│   caller = display_figs() at PyPlot.jl:118\n",
      "└ @ PyPlot C:\\Users\\Joheen\\.julia\\packages\\PyPlot\\mQXSC\\src\\PyPlot.jl:118\n",
      "┌ Warning: `getindex(o::PyObject, s::AbstractString)` is deprecated in favor of dot overloading (`getproperty`) so elements should now be accessed as e.g. `o.\"s\"` instead of `o[\"s\"]`.\n",
      "│   caller = display_figs() at PyPlot.jl:118\n",
      "└ @ PyPlot C:\\Users\\Joheen\\.julia\\packages\\PyPlot\\mQXSC\\src\\PyPlot.jl:118\n",
      "┌ Warning: `getindex(o::PyObject, s::Symbol)` is deprecated in favor of dot overloading (`getproperty`) so elements should now be accessed as e.g. `o.s` instead of `o[:s]`.\n",
      "│   caller = display_figs() at PyPlot.jl:119\n",
      "└ @ PyPlot C:\\Users\\Joheen\\.julia\\packages\\PyPlot\\mQXSC\\src\\PyPlot.jl:119\n",
      "┌ Warning: `getindex(o::PyObject, s::AbstractString)` is deprecated in favor of dot overloading (`getproperty`) so elements should now be accessed as e.g. `o.\"s\"` instead of `o[\"s\"]`.\n",
      "│   caller = isempty(::Figure) at PyPlot.jl:106\n",
      "└ @ PyPlot C:\\Users\\Joheen\\.julia\\packages\\PyPlot\\mQXSC\\src\\PyPlot.jl:106\n",
      "┌ Warning: `getindex(o::PyObject, s::AbstractString)` is deprecated in favor of dot overloading (`getproperty`) so elements should now be accessed as e.g. `o.\"s\"` instead of `o[\"s\"]`.\n",
      "│   caller = display_figs() at PyPlot.jl:122\n",
      "└ @ PyPlot C:\\Users\\Joheen\\.julia\\packages\\PyPlot\\mQXSC\\src\\PyPlot.jl:122\n"
     ]
    }
   ],
   "source": [
    "include(\"sebastien.jl\")\n",
    "using Main.WeirdDetector\n",
    "using PyPlot\n",
    "using DataFrames\n",
    "\n",
    "kws = [1.0, 1.2, 1.4, 1.6, 2.0]\n",
    "\n",
    "for detrendkw in kws\n",
    "    tid = \"370324073\"\n",
    "    df = loadFITS(0, fitsdir=\"./sector1/\", tic_id=tid, detrend_kw=detrendkw)\n",
    "    d = pointsify(df)\n",
    "    periods = optimal_periods(0.25,15)\n",
    "    output=periodogram(d, periods, parallel=true, datakw=true)\n",
    "    output.delt_chi2 = flatten(periods, output.chi2, tess=true)\n",
    "    null_output = scrambled_periodogram(df, periods, tess=true)\n",
    "    null_output.delt_chi2 = flatten(periods, null_output.chi2, tess=true)\n",
    "    sigma = movingstd((null_output.kurtosis .- 3) .* (null_output.delt_chi2))\n",
    "    output.zeta = (output.kurtosis .- 3) .* output.delt_chi2 ./ sigma\n",
    "\n",
    "    period = periods[findall(a->a==maximum(output[:zeta]), output[:zeta])][1]\n",
    "    df[:t] = df[:t] .% period\n",
    "    scatter(df[:t], df[:F], alpha=0.4, s=0.1)\n",
    "    savefig(\"./sector1/different_detrend_kw/\" * string(detrendkw) * \".png\")\n",
    "    clf()\n",
    "    zetapeak = maximum(output[:zeta])\n",
    "end"
   ]
  },
  {
   "cell_type": "code",
   "execution_count": 1,
   "metadata": {},
   "outputs": [
    {
     "name": "stderr",
     "output_type": "stream",
     "text": [
      "┌ Warning: dropmissing! will change eltype of cols to disallow missing by default. Use dropmissing!(df, cols, disallowmissing=false) to retain missing.\n",
      "│   caller = ip:0x0\n",
      "└ @ Core :-1\n"
     ]
    }
   ],
   "source": [
    "include(\"sebastien.jl\")\n",
    "using Main.WeirdDetector\n",
    "using PyPlot\n",
    "using DataFrames\n",
    "\n",
    "stars = [\"316992294\", \"294754396\", \"281779224\", \"29636302\", \"30315127\",\n",
    "    \"269762258\", \"269793839\", \"269829384\", \"269829656\", \"370324073\", \"410354930\", \"441113863\", \"316992294\", \"33862174\"]\n",
    "\n",
    "for i in stars\n",
    "    tid = string(i)\n",
    "    df = loadFITS(0, fitsdir=\"./lcs/\", tic_id=tid, )\n",
    "    d = pointsify(df)\n",
    "    periods = optimal_periods(0.25,15)\n",
    "    output=periodogram(d, periods, parallel=true, datakw=true)\n",
    "    output[:delt_chi2] = flatten(periods, output[:chi2], tess=true)\n",
    "    null_output = scrambled_periodogram(df, periods, tess=true)\n",
    "    null_output[:delt_chi2] = flatten(periods, null_output[:chi2], tess=true)\n",
    "    sigma = movingstd((null_output[:kurtosis] .- 3) .* (null_output[:delt_chi2]))\n",
    "    output[:zeta] = (output[:kurtosis] .- 3) .* output[:delt_chi2] ./ sigma\n",
    "\n",
    "    period = periods[findall(a->a==maximum(output[:zeta]), output[:zeta])][1]\n",
    "    df[:t] = df[:t] .% period\n",
    "    scatter(df[:t], df[:F], alpha=0.4, s=0.1)\n",
    "    show()\n",
    "    clf()\n",
    "    zetapeak = maximum(output[:zeta])\n",
    "end"
   ]
  }
 ],
 "metadata": {
  "kernelspec": {
   "display_name": "Julia 1.0.3",
   "language": "julia",
   "name": "julia-1.0"
  },
  "language_info": {
   "file_extension": ".jl",
   "mimetype": "application/julia",
   "name": "julia",
   "version": "1.0.3"
  }
 },
 "nbformat": 4,
 "nbformat_minor": 2
}
